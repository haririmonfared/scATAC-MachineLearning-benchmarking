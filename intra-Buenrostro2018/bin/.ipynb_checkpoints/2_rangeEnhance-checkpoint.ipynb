{
 "cells": [
  {
   "cell_type": "code",
   "execution_count": 4,
   "metadata": {
    "ExecuteTime": {
     "end_time": "2020-06-05T02:22:33.932866Z",
     "start_time": "2020-06-05T02:22:31.607Z"
    }
   },
   "outputs": [],
   "source": [
    "cutOff<-0.3\n",
    "\n",
    "library(Matrix)\n",
    "library(parallel)\n",
    "buenrostro2018Data<-readRDS(\"../input/buenrostro2018-snap-full.rds\")\n",
    "labels<-read.table(\"../input/metadata_buenrostro2018_sorted.tsv\",header = TRUE,sep = \"\\t\",check.names = FALSE)"
   ]
  },
  {
   "cell_type": "code",
   "execution_count": 7,
   "metadata": {
    "ExecuteTime": {
     "end_time": "2020-06-05T02:22:48.481594Z",
     "start_time": "2020-06-05T02:22:48.467Z"
    }
   },
   "outputs": [],
   "source": [
    "labels<-labels[labels$barcode %in% rownames(buenrostro2018Data),]"
   ]
  },
  {
   "cell_type": "code",
   "execution_count": null,
   "metadata": {},
   "outputs": [],
   "source": [
    "func<-function(label){\n",
    "    barcode<-labels[labels$label == label,]$barcode\n",
    "    cell_data<-buenrostro2018Data[rownames(buenrostro2018Data) %in% barcode,]\n",
    "    nonZeroColumnList_cell<-diff(cell_data@p)/nrow(cell_data)\n",
    "    candidateRange<-which(nonZeroColumnList_cell>=cutOff)\n",
    "    for(i in candidateRange){\n",
    "        cell_data[,i] = 1\n",
    "    }\n",
    "    return(cell_data)\n",
    "}"
   ]
  },
  {
   "cell_type": "code",
   "execution_count": 6,
   "metadata": {
    "ExecuteTime": {
     "end_time": "2020-05-18T10:31:24.313414Z",
     "start_time": "2020-05-18T09:10:31.753Z"
    }
   },
   "outputs": [],
   "source": [
    "\n",
    "cl.cores <- detectCores()\n",
    "cl <- makeCluster(cl.cores-1,type = \"FORK\") \n",
    "results <- parLapply(cl, levels(labels$label),  func)\n",
    "enhanced_buenrostro2018Data<-do.call('rbind',results)\n",
    "stopCluster(cl)\n",
    "saveRDS(enhanced_buenrostro2018Data,file = paste0('../output/buenrostro2018-snap-full_enh',cutOff,'.rds'))"
   ]
  },
  {
   "cell_type": "code",
   "execution_count": null,
   "metadata": {},
   "outputs": [],
   "source": []
  }
 ],
 "metadata": {
  "kernelspec": {
   "display_name": "R [conda env:ATACseq_SnapATAC]",
   "language": "R",
   "name": "conda-env-ATACseq_SnapATAC-r"
  },
  "language_info": {
   "codemirror_mode": "r",
   "file_extension": ".r",
   "mimetype": "text/x-r-source",
   "name": "R",
   "pygments_lexer": "r",
   "version": "3.5.1"
  }
 },
 "nbformat": 4,
 "nbformat_minor": 2
}
