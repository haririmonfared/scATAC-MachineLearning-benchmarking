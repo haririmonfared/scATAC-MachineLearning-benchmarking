{
 "cells": [
  {
   "cell_type": "markdown",
   "metadata": {},
   "source": [
    "# run cicero"
   ]
  },
  {
   "cell_type": "code",
   "execution_count": 2,
   "metadata": {
    "ExecuteTime": {
     "end_time": "2020-06-05T04:01:50.228128Z",
     "start_time": "2020-06-05T04:01:38.435Z"
    }
   },
   "outputs": [],
   "source": [
    "cutOff_enhanced<-0.1\n",
    "cutOff_coaccess<-0.25\n",
    "\n",
    "library(Matrix)\n",
    "library(parallel)\n",
    "buenrostro2018Data<-readRDS(paste0(\"../output/buenrostro2018-snap-full_enh\",cutOff_enhanced,\".rds\"))\n",
    "labels<-read.table(\"../input/metadata_buenrostro2018_sorted.tsv\",header = TRUE,sep = \"\\t\",check.names = FALSE)\n",
    "labels<-labels[labels$barcode %in% rownames(buenrostro2018Data),]\n",
    "crn<-readRDS(\"../input/conns_buenrostro2018.rds\")"
   ]
  },
  {
   "cell_type": "code",
   "execution_count": 3,
   "metadata": {
    "ExecuteTime": {
     "end_time": "2020-06-05T04:01:51.766731Z",
     "start_time": "2020-06-05T04:01:39.654Z"
    }
   },
   "outputs": [],
   "source": [
    "positive_crn<-na.omit(crn[crn$coaccess>=cutOff_coaccess,])"
   ]
  },
  {
   "cell_type": "code",
   "execution_count": 31,
   "metadata": {
    "ExecuteTime": {
     "end_time": "2020-05-29T11:36:28.196173Z",
     "start_time": "2020-05-29T11:36:28.147Z"
    }
   },
   "outputs": [],
   "source": [
    "func<-function(label){\n",
    "    barcode<-labels[labels$label == label,]$barcode\n",
    "    cell_data<-buenrostro2018Data[rownames(buenrostro2018Data) %in% barcode,]\n",
    "    nonZeroColumnList_cell<-diff(cell_data@p)/nrow(cell_data)\n",
    "    nonZeroColumnList_cell<-t(as.data.frame(nonZeroColumnList_cell))\n",
    "    colnames(nonZeroColumnList_cell)<-buenrostro2018Data@Dimnames[[2]]\n",
    "    for(i in 1:length(positive_crn$coaccess)){\n",
    "        peak1<-positive_crn$Peak1[i]\n",
    "        peak2<-as.character(positive_crn$Peak2[i])\n",
    "        peak1_split<-strsplit(peak1,split = \"_\")[[1]]\n",
    "        peak1_left<-as.integer(as.integer(peak1_split[2])/5000)*5000+1\n",
    "        peak1_right<-as.integer(as.integer(peak1_split[2])/5000)*5000+5000\n",
    "        peak1<-paste0(peak1_split[1],\":\",peak1_left,\"-\",peak1_right)\n",
    "#         print(peak1)\n",
    "        peak2_split<-strsplit(peak2,split = \"_\")[[1]]\n",
    "        peak2_left<-as.integer(as.integer(peak2_split[2])/5000)*5000+1\n",
    "        peak2_right<-as.integer(as.integer(peak2_split[2])/5000)*5000+5000\n",
    "        peak2<-paste0(peak2_split[1],\":\",peak2_left,\"-\",peak2_right)\n",
    "        if(! peak1 %in% buenrostro2018Data@Dimnames[[2]]){ \n",
    "            next\n",
    "        }\n",
    "        if(! peak2 %in% buenrostro2018Data@Dimnames[[2]]){ \n",
    "                next\n",
    "        }\n",
    "        if(nonZeroColumnList_cell[,peak1]>=cutOff_enhanced){\n",
    "            cell_data[,peak2] = 1  \n",
    "        }\n",
    "        if(nonZeroColumnList_cell[,peak2]>=cutOff_enhanced){\n",
    "            cell_data[,peak1] = 1  \n",
    "        } \n",
    "    }\n",
    "    return(cell_data)\n",
    "}"
   ]
  },
  {
   "cell_type": "code",
   "execution_count": null,
   "metadata": {},
   "outputs": [],
   "source": [
    "cl.cores <- detectCores()\n",
    "cl <- makeCluster(cl.cores-1,type = \"FORK\") \n",
    "results <- parLapply(cl, levels(labels$label),  func)\n",
    "integrated_buenrostro2018Data<-do.call('rbind',results)\n",
    "stopCluster(cl)"
   ]
  },
  {
   "cell_type": "code",
   "execution_count": null,
   "metadata": {},
   "outputs": [],
   "source": [
    "integrated_buenrostro2018Data<-integrated_buenrostro2018Data[order(rownames(integrated_buenrostro2018Data)),]"
   ]
  },
  {
   "cell_type": "code",
   "execution_count": null,
   "metadata": {},
   "outputs": [],
   "source": [
    "saveRDS(integrated_buenrostro2018Data,file =paste0('../output/buenrostro2018-snap-full_enh',cutOff_enhanced,\"_int\",cutOff_coaccess,'.rds'))"
   ]
  },
  {
   "cell_type": "code",
   "execution_count": null,
   "metadata": {},
   "outputs": [],
   "source": []
  }
 ],
 "metadata": {
  "kernelspec": {
   "display_name": "R",
   "language": "R",
   "name": "ir"
  },
  "language_info": {
   "codemirror_mode": "r",
   "file_extension": ".r",
   "mimetype": "text/x-r-source",
   "name": "R",
   "pygments_lexer": "r",
   "version": "4.0.0"
  }
 },
 "nbformat": 4,
 "nbformat_minor": 2
}
