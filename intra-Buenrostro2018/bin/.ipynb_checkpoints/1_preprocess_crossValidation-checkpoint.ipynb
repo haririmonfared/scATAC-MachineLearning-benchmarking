{
 "cells": [
  {
   "cell_type": "code",
   "execution_count": 2,
   "metadata": {
    "ExecuteTime": {
     "end_time": "2020-06-04T06:04:12.735784Z",
     "start_time": "2020-06-04T06:04:12.624Z"
    }
   },
   "outputs": [],
   "source": [
    "label_buenrostro2018<-read.csv('../input/metadata_buenrostro2018_sorted.tsv',sep = \"\\t\",header = TRUE)"
   ]
  },
  {
   "cell_type": "code",
   "execution_count": null,
   "metadata": {},
   "outputs": [],
   "source": [
    "data<-readRDS(\"../input/buenrostro2018-snap-full.rds\")"
   ]
  },
  {
   "cell_type": "code",
   "execution_count": null,
   "metadata": {},
   "outputs": [],
   "source": [
    "label_buenrostro2018<-label_buenrostro2018[label_buenrostro2018$barcode %in% rownames(data),]"
   ]
  },
  {
   "cell_type": "code",
   "execution_count": 4,
   "metadata": {
    "ExecuteTime": {
     "end_time": "2020-06-04T06:04:17.623910Z",
     "start_time": "2020-06-04T06:04:17.384Z"
    }
   },
   "outputs": [],
   "source": [
    "Cross_Validation <- function(LabelsPath, col_Index = 1, OutputDir){\n",
    "  \"\n",
    "  Cross_Validation\n",
    "  Function returns train and test indices for 5 folds stratified across unique cell populations,\n",
    "  also filter out cell populations with less than 10 cells.\n",
    "  It return a 'CV_folds.RData' file which then used as input to classifiers wrappers.\n",
    "  Parameters\n",
    "  ----------\n",
    "  LabelsPath : Cell population annotations file path (.csv).\n",
    "  col_Index : column index (integer) defining which level of annotation to use,\n",
    "  in case of multiple cell type annotations (default is 1)\n",
    "  OutputDir : Output directory defining the path of the exported file.\n",
    "  \"\n",
    "\n",
    "  Labels <- as.matrix(LabelsPath)\n",
    "  Labels <- as.vector(Labels[,col_Index])\n",
    "\n",
    "  Removed_classes <- !(table(Labels) > 10)\n",
    "  Cells_to_Keep <- !(is.element(Labels,names(Removed_classes)[Removed_classes]))\n",
    "  Labels <- Labels[Cells_to_Keep]\n",
    "\n",
    "  # Getting training and testing Folds\n",
    "  library(rBayesianOptimization)\n",
    "  n_folds = 5\n",
    "  Folds <- KFold(Labels,nfolds = n_folds, stratified = TRUE)\n",
    "  Test_Folds <- c(n_folds:1)\n",
    "  Train_Idx <- list()\n",
    "  Test_Idx <- list()\n",
    "  for (i in c(1:length(Folds))){\n",
    "    Temp_Folds <- Folds\n",
    "    Temp_Folds[Test_Folds[i]] <- NULL\n",
    "#     print(Temp_Folds[Test_Folds[i]])\n",
    "    Train_Idx[i] <- list(unlist(Temp_Folds))\n",
    "#     print(Train_Idx[i])\n",
    "    Test_Idx[i] <- Folds[Test_Folds[i]]\n",
    "#     print(Test_Idx[i])\n",
    "  }\n",
    "  remove(Temp_Folds,i,Folds)\n",
    "#   print(Train_Idx)\n",
    "#   print(Test_Idx)\n",
    "  save(n_folds,Train_Idx,Test_Idx,col_Index,Cells_to_Keep,file = paste0(OutputDir, '/CV_folds.RData'))\n",
    "}\n",
    "\n",
    "Cross_Validation(label_buenrostro2018, 3, \"../tmp\")"
   ]
  },
  {
   "cell_type": "code",
   "execution_count": null,
   "metadata": {},
   "outputs": [],
   "source": []
  }
 ],
 "metadata": {
  "kernelspec": {
   "display_name": "R [conda env:ATACseq_SnapATAC]",
   "language": "R",
   "name": "conda-env-ATACseq_SnapATAC-r"
  },
  "language_info": {
   "codemirror_mode": "r",
   "file_extension": ".r",
   "mimetype": "text/x-r-source",
   "name": "R",
   "pygments_lexer": "r",
   "version": "3.6.1"
  }
 },
 "nbformat": 4,
 "nbformat_minor": 4
}
